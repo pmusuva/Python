{
  "nbformat": 4,
  "nbformat_minor": 0,
  "metadata": {
    "kernelspec": {
      "display_name": "Python 3",
      "language": "python",
      "name": "python3"
    },
    "language_info": {
      "codemirror_mode": {
        "name": "ipython",
        "version": 3
      },
      "file_extension": ".py",
      "mimetype": "text/x-python",
      "name": "python",
      "nbconvert_exporter": "python",
      "pygments_lexer": "ipython3",
      "version": "3.8.5"
    },
    "colab": {
      "name": "regex_breakdown.ipynb",
      "provenance": [],
      "include_colab_link": true
    }
  },
  "cells": [
    {
      "cell_type": "markdown",
      "metadata": {
        "id": "view-in-github",
        "colab_type": "text"
      },
      "source": [
        "<a href=\"https://colab.research.google.com/github/pmusuva/Python/blob/main/regex_breakdown.ipynb\" target=\"_parent\"><img src=\"https://colab.research.google.com/assets/colab-badge.svg\" alt=\"Open In Colab\"/></a>"
      ]
    },
    {
      "cell_type": "markdown",
      "metadata": {
        "id": "XR5WJFZO7_EI"
      },
      "source": [
        "# Regular Expressions"
      ]
    },
    {
      "cell_type": "markdown",
      "metadata": {
        "id": "GhSPDw7a7_EM"
      },
      "source": [
        "### What are regular expressions?\n",
        "A Regular Expression (RegEX), is a sequence of characters that forms a search pattern. RegEx are used in many programming languages, text editors, and other tools as a means of determining whether a string matches a specified pattern.        \n",
        "Common cases where regular expressions are used include:\n",
        "- Search in search engines.\n",
        "- Validation of the format of email addresses, phone numbers or passwords during registration in a web portal.\n",
        "- Manipulation of textual data in data science projects.\n",
        "\n",
        "### Regular Expresssions in Python.\n",
        "In Python, regular expressions are supported by the **re module**.Therefore, to  use regex in python scripts we have to import the module.  as shown below:"
      ]
    },
    {
      "cell_type": "code",
      "metadata": {
        "id": "w6UR-MUr7_EO"
      },
      "source": [
        "import re"
      ],
      "execution_count": null,
      "outputs": []
    },
    {
      "cell_type": "markdown",
      "metadata": {
        "id": "EAt5So3p7_EP"
      },
      "source": [
        "This library provides several functions that make it posssible to search a string for a match. Some of the most common ones include:\n",
        "- **re.compile() -**\n",
        "Compiles a regular expression pattern into a regular expression object, which can be used for matching. It is more efficient when the expression will be used several times in a single program.\n",
        "- **re.search() -**\n",
        "Scans through a string looking for the first location where the regular expression pattern produces a match, and returns a corresponding match object. Otherwise, it returns None.\n",
        "- **re.findall() -**\n",
        "Returns all matches of a pattern in a string as a list of strings.\n",
        "- **re.finditer() -**\n",
        "Returns an iterator containing match objects of all matches of a pattern in a string. \n",
        "- **re.sub() -**\n",
        "Returns the string obtained by replacing the occurrences of a pattern in the string by the replacement repl. If the pattern isn’t found, string is returned unchanged.  \n",
        "- **re.split() -**\n",
        "Split string by the occurrences of a specified pattern.      \n",
        "\n",
        "More functions can be found in the [Python Documenation](https://docs.python.org/3/library/re.html)\n"
      ]
    },
    {
      "cell_type": "markdown",
      "metadata": {
        "id": "SxNA-x5H7_EQ"
      },
      "source": [
        "### Below is a simple docstring which we shall use regular expressions on."
      ]
    },
    {
      "cell_type": "code",
      "metadata": {
        "id": "V_Rz-ICe7_ES"
      },
      "source": [
        "text_to_search = '''This is just a simple line of text\n",
        "abcdefghijklmnopqurtuvwxyz\n",
        "abc\n",
        "abcabcabc\n",
        "abcabcabcabcabc\n",
        "ABCDEFGHIJKLMNOPQRSTUVWXYZ\n",
        "I love cats.\n",
        ".com\n",
        "1234567890\n",
        "La LaLa\n",
        ". ^ $ * + ? { } [ ] \\ | ( )\n",
        "This marks the end'''"
      ],
      "execution_count": null,
      "outputs": []
    },
    {
      "cell_type": "markdown",
      "metadata": {
        "id": "NbnSj9IV7_EV"
      },
      "source": [
        "#### re.search()\n",
        "\n",
        "We can perform simple regex using literals as illustrated below:"
      ]
    },
    {
      "cell_type": "code",
      "metadata": {
        "id": "rB7yELTS7_EZ"
      },
      "source": [
        "match_object = re.search('ABC', text_to_search) #case sensitive\n",
        "print (match_object)\n"
      ],
      "execution_count": null,
      "outputs": []
    },
    {
      "cell_type": "markdown",
      "metadata": {
        "id": "K4GTvhL17_Ea"
      },
      "source": [
        "This returns an object containing the first occurence of \"abc\"."
      ]
    },
    {
      "cell_type": "code",
      "metadata": {
        "id": "08wEuM4y7_Eb"
      },
      "source": [
        "print (text_to_search[92:95])"
      ],
      "execution_count": null,
      "outputs": []
    },
    {
      "cell_type": "markdown",
      "metadata": {
        "id": "0waHv9YX7_Ec"
      },
      "source": [
        "#### Working with Match Objects"
      ]
    },
    {
      "cell_type": "markdown",
      "metadata": {
        "id": "QNpF5m9V7_Ec"
      },
      "source": [
        "The Match object has properties and methods:\n",
        "\n",
        "- **span() -** returns a tuple containing the start and end positions of the match.\n",
        "- **string -** returns the string passed into the function.\n",
        "- **group() -** returns the part of the string where there was a match"
      ]
    },
    {
      "cell_type": "code",
      "metadata": {
        "id": "OfKwgpNy7_Ed"
      },
      "source": [
        "print (f\"{match_object}\\n\")\n",
        "print (f\"The start and end indices: {match_object.span()}\\n\")\n",
        "print (\"The pattern matched: \" + match_object.group() + \"\\n\")\n",
        "print (\"\\tThe entire string: \\n ___________________________________\\n\" + match_object.string)\n"
      ],
      "execution_count": null,
      "outputs": []
    },
    {
      "cell_type": "markdown",
      "metadata": {
        "id": "MJlGsbjp7_Ed"
      },
      "source": [
        "#### re.compile()"
      ]
    },
    {
      "cell_type": "code",
      "metadata": {
        "id": "5Y-gtI9Q7_Ed"
      },
      "source": [
        "pattern = re.compile(r'abc')"
      ],
      "execution_count": null,
      "outputs": []
    },
    {
      "cell_type": "markdown",
      "metadata": {
        "id": "bu0wnSK17_Ee"
      },
      "source": [
        "#### re.findall()"
      ]
    },
    {
      "cell_type": "code",
      "metadata": {
        "id": "AINDkrr87_Ee"
      },
      "source": [
        "letters = pattern.findall(text_to_search)#returns all occurences.\n",
        "for match in letters:\n",
        "    print (match)"
      ],
      "execution_count": null,
      "outputs": []
    },
    {
      "cell_type": "markdown",
      "metadata": {
        "id": "b5eDLxII7_Ef"
      },
      "source": [
        "#### re.finditer()"
      ]
    },
    {
      "cell_type": "code",
      "metadata": {
        "id": "h-lP65VT7_Ef"
      },
      "source": [
        "letters_object = pattern.finditer(text_to_search)#returns match objects of all occurences.\n",
        "for object in letters_object:\n",
        "    print (object)"
      ],
      "execution_count": null,
      "outputs": []
    },
    {
      "cell_type": "markdown",
      "metadata": {
        "id": "iyFYUrv67_Eg"
      },
      "source": [
        "##### re.sub()"
      ]
    },
    {
      "cell_type": "code",
      "metadata": {
        "id": "PAIzaDyS7_Eg"
      },
      "source": [
        "substitute = re.sub(\"cats\",\"dogs\",text_to_search) #replace the word cats with dogs.\n",
        "print(substitute)"
      ],
      "execution_count": null,
      "outputs": []
    },
    {
      "cell_type": "markdown",
      "metadata": {
        "id": "vuWktn2h7_Eg"
      },
      "source": [
        "##### re.split()"
      ]
    },
    {
      "cell_type": "code",
      "metadata": {
        "id": "egWelhLW7_Eh"
      },
      "source": [
        "split_string = re.split(\"\\s\", text_to_search) #split the string at the whitespaces.\n",
        "print(split_string)"
      ],
      "execution_count": null,
      "outputs": []
    },
    {
      "cell_type": "markdown",
      "metadata": {
        "id": "X3BxBzQg7_Eh"
      },
      "source": [
        "### Metacharacters\n",
        "These are characters that are interpreted in a special way by a RegEx engine."
      ]
    },
    {
      "cell_type": "markdown",
      "metadata": {
        "id": "wYs88dwq7_Eh"
      },
      "source": [
        "##### \\\\ - Escapes special characters or denotes character classes."
      ]
    },
    {
      "cell_type": "code",
      "metadata": {
        "id": "k24NmWTt7_Ei"
      },
      "source": [
        "periods = re.finditer(r\"\\.\",text_to_search)\n",
        "for period in periods:\n",
        "    print(period)\n"
      ],
      "execution_count": null,
      "outputs": []
    },
    {
      "cell_type": "markdown",
      "metadata": {
        "id": "-aoS3nuw7_Ei"
      },
      "source": [
        "##### . - Matches any character except line terminators like \\n (new line).\n"
      ]
    },
    {
      "cell_type": "code",
      "metadata": {
        "id": "oB7npDAa7_Ei"
      },
      "source": [
        "period_char = re.findall(r\".\",text_to_search)\n",
        "print(period_char)\n"
      ],
      "execution_count": null,
      "outputs": []
    },
    {
      "cell_type": "markdown",
      "metadata": {
        "id": "-pYkvwHn7_Ei"
      },
      "source": [
        "##### ^ - Matches the literal at the start of a string.  Checks if a string starts with a certain character."
      ]
    },
    {
      "cell_type": "code",
      "metadata": {
        "id": "s4uNzWgK7_Ej"
      },
      "source": [
        "start_string = re.search(r\"^This\", text_to_search)\n",
        "print (start_string)"
      ],
      "execution_count": null,
      "outputs": []
    },
    {
      "cell_type": "markdown",
      "metadata": {
        "id": "Z7ivp63L7_Ej"
      },
      "source": [
        "##### \\$ - Matches the literal at the end of a string. Checks if a string ends with a certain character."
      ]
    },
    {
      "cell_type": "code",
      "metadata": {
        "id": "HBmu2mZX7_Ej"
      },
      "source": [
        "end_string = re.search(\"end$\", text_to_search)\n",
        "print (end_string)"
      ],
      "execution_count": null,
      "outputs": []
    },
    {
      "cell_type": "code",
      "metadata": {
        "id": "_BgDT-RW7_Ek"
      },
      "source": [
        "print(text_to_search)"
      ],
      "execution_count": null,
      "outputs": []
    },
    {
      "cell_type": "markdown",
      "metadata": {
        "id": "4e_Kre5j7_Ek"
      },
      "source": [
        "##### ? - Matches zero or one occurrence of the pattern left to it."
      ]
    },
    {
      "cell_type": "code",
      "metadata": {
        "id": "DU4JKV1A7_Ek"
      },
      "source": [
        "phrase = \"pan paan in Japan and paaan or pn is not a pun \"\n",
        "\n",
        "qmark_re = re.finditer(r\"pa?n\", phrase)\n",
        "for qmark in qmark_re:\n",
        "    print (qmark)"
      ],
      "execution_count": null,
      "outputs": []
    },
    {
      "cell_type": "markdown",
      "metadata": {
        "id": "d6t9ic3H7_El"
      },
      "source": [
        "##### * - Matches zero or more occurrences of the pattern left to it."
      ]
    },
    {
      "cell_type": "code",
      "metadata": {
        "id": "cHCD4CVa7_El"
      },
      "source": [
        "phrase = \"pan paan in Japan and paaan or pn is not a pun \"\n",
        "\n",
        "star_re = re.finditer(r\"pa*n\", phrase)\n",
        "for star in star_re:\n",
        "    print (star)"
      ],
      "execution_count": null,
      "outputs": []
    },
    {
      "cell_type": "markdown",
      "metadata": {
        "id": "AayOe2FG7_El"
      },
      "source": [
        "##### + - Matches one or more occurrences of the pattern left to it."
      ]
    },
    {
      "cell_type": "code",
      "metadata": {
        "id": "hvBuWV9R7_Em"
      },
      "source": [
        "phrase = \"pan paan in Japan and paaan or pn is not a pun \"\n",
        "\n",
        "plus_re = re.finditer(r\"pa+n\", phrase)\n",
        "for p in plus_re:\n",
        "    print (p)"
      ],
      "execution_count": null,
      "outputs": []
    },
    {
      "cell_type": "markdown",
      "metadata": {
        "id": "Fn5_2y9N7_Em"
      },
      "source": [
        "##### {} - Matches exactly the specified number of occurrences"
      ]
    },
    {
      "cell_type": "code",
      "metadata": {
        "id": "7F2-s5vk7_En"
      },
      "source": [
        "alphabet = re.finditer(r\"(abc){5}\", text_to_search)\n",
        "for a in alphabet:\n",
        "    print (a)\n"
      ],
      "execution_count": null,
      "outputs": []
    },
    {
      "cell_type": "markdown",
      "metadata": {
        "id": "dLJET90E7_En"
      },
      "source": [
        "##### {n,} -Matches n or more occurrences of preceding expression"
      ]
    },
    {
      "cell_type": "code",
      "metadata": {
        "id": "dCiOKXUb7_En"
      },
      "source": [
        "alphabet = re.finditer(r\"(abc){1,}\", text_to_search)\n",
        "for a in alphabet:\n",
        "    print (a)"
      ],
      "execution_count": null,
      "outputs": []
    },
    {
      "cell_type": "markdown",
      "metadata": {
        "id": "k_pS9o9w7_Eo"
      },
      "source": [
        "##### {n, m} -Matches at least n and at most m occurrences of preceding expression"
      ]
    },
    {
      "cell_type": "code",
      "metadata": {
        "id": "Dha-RY7p7_Eo"
      },
      "source": [
        "alphabet = re.finditer(r\"(abc){2,4}\", text_to_search)\n",
        "for a in alphabet:\n",
        "    print (a)"
      ],
      "execution_count": null,
      "outputs": []
    },
    {
      "cell_type": "markdown",
      "metadata": {
        "id": "KnxMAMpe7_Eo"
      },
      "source": [
        "##### | - (or operator). Matches either or"
      ]
    },
    {
      "cell_type": "code",
      "metadata": {
        "id": "KEXid0ns7_Eo"
      },
      "source": [
        "match_object = re.finditer((\"ABCD|abcd\"), text_to_search) #case sensitive\n",
        "for obj in match_object:\n",
        "    print (obj)"
      ],
      "execution_count": null,
      "outputs": []
    },
    {
      "cell_type": "markdown",
      "metadata": {
        "id": "PdomFVx37_Ep"
      },
      "source": [
        "##### () - Used to capture and group sub-patterns"
      ]
    },
    {
      "cell_type": "markdown",
      "metadata": {
        "id": "96WMhU1N7_Ep"
      },
      "source": [
        "###### \t[...] - Matches any single character in brackets."
      ]
    },
    {
      "cell_type": "markdown",
      "metadata": {
        "id": "qbu4UsKd7_Ep"
      },
      "source": [
        "##### [^...] -Matches any single character not in brackets"
      ]
    },
    {
      "cell_type": "markdown",
      "metadata": {
        "id": "bCgBZvmZ7_Ep"
      },
      "source": [
        "### Special Sequences\n",
        "\n",
        "Special sequences are denoted by a \\ followed by a specified character. They make commonly used patterns easier to write.        \n",
        "\n",
        "***It is advisable to use raw strings with special sequences.***"
      ]
    },
    {
      "cell_type": "code",
      "metadata": {
        "id": "RNKmmX9H7_Eq"
      },
      "source": [
        "print (\"\\n \\t Newline\")\n",
        "print (r\"\\n \\t Newline\") #rawstring"
      ],
      "execution_count": null,
      "outputs": []
    },
    {
      "cell_type": "markdown",
      "metadata": {
        "id": "e0hPdASQ7_Eq"
      },
      "source": [
        "##### \\\\w - Matches alphanumeric characters. *includes _*"
      ]
    },
    {
      "cell_type": "code",
      "metadata": {
        "id": "TyhUjI277_Eq"
      },
      "source": [
        "alphanumeric = re.findall(\"\\w\", text_to_search)\n",
        "print(alphanumeric)"
      ],
      "execution_count": null,
      "outputs": []
    },
    {
      "cell_type": "markdown",
      "metadata": {
        "id": "vw4aL9V67_Er"
      },
      "source": [
        "##### \\\\d  - Matches digits, which means 0-9."
      ]
    },
    {
      "cell_type": "code",
      "metadata": {
        "id": "1FiNGN1-7_Er"
      },
      "source": [
        "digits = re.findall(\"\\d\", text_to_search)\n",
        "print(digits)"
      ],
      "execution_count": null,
      "outputs": []
    },
    {
      "cell_type": "markdown",
      "metadata": {
        "id": "2apxAoOQ7_Er"
      },
      "source": [
        "### \\\\s - Matches whitespace characters."
      ]
    },
    {
      "cell_type": "code",
      "metadata": {
        "id": "bEukBVDK7_Er"
      },
      "source": [
        "whitespaces = re.finditer(\"\\s\", text_to_search)\n",
        "for whitespace in whitespaces:\n",
        "    print(whitespace)"
      ],
      "execution_count": null,
      "outputs": []
    },
    {
      "cell_type": "markdown",
      "metadata": {
        "id": "RUb2PJim7_Es"
      },
      "source": [
        "### \\\\b | Matches if there is a boundary (or empty string) at the start and end  therefore, mtches if the specified characters are at the beginning or end of a word"
      ]
    },
    {
      "cell_type": "code",
      "metadata": {
        "id": "E5Qunr1l7_Es"
      },
      "source": [
        "words = re.finditer(r\"\\bLa\",text_to_search)\n",
        "for word in words:\n",
        "    print(word)"
      ],
      "execution_count": null,
      "outputs": []
    },
    {
      "cell_type": "markdown",
      "metadata": {
        "id": "x81OrGfo7_Es"
      },
      "source": [
        "***The characters in uppercase do the opposite.***"
      ]
    },
    {
      "cell_type": "markdown",
      "metadata": {
        "id": "xBe0MQJd7_Es"
      },
      "source": [
        "### Practical Examples\n",
        "In this examples we shall be retrieving information from a text file *contacts.txt*.            \n",
        "***Disclaimer:*** All the names and contacts are not real. (generated using the Faker library)"
      ]
    },
    {
      "cell_type": "markdown",
      "metadata": {
        "id": "66lfjBLV7_Et"
      },
      "source": [
        "#####  \tGetting the phone numbers."
      ]
    },
    {
      "cell_type": "code",
      "metadata": {
        "id": "yffMgDx87_Et"
      },
      "source": [
        "with open (\"contacts.txt\") as f:\n",
        "    #print phonenumbers from Kenya\n",
        "    phonenumbers = re.findall(r\"[+]?254\\d{9}|07\\d{8}\", f.read())\n",
        "    print (f\"Kenyan phone numbers:{phonenumbers}\")\n",
        "     \n"
      ],
      "execution_count": null,
      "outputs": []
    },
    {
      "cell_type": "code",
      "metadata": {
        "id": "9DNw18uc7_Et"
      },
      "source": [
        " with open (\"contacts.txt\") as f:\n",
        "    #american numbers\n",
        "    numbers = re.findall(r\"[+]?1?-?[(]?\\d{3}[).-]\\d{3}[.-]\\d{4}\", f.read())\n",
        "    print (\"American phone numbers:\")\n",
        "    for n in numbers:\n",
        "        print (n)"
      ],
      "execution_count": null,
      "outputs": []
    },
    {
      "cell_type": "markdown",
      "metadata": {
        "id": "BPaaEVWz7_Et"
      },
      "source": [
        "#### Printing names of proffessors."
      ]
    },
    {
      "cell_type": "code",
      "metadata": {
        "id": "cjvqibJs7_Eu"
      },
      "source": [
        "with open (\"contacts.txt\") as f:\n",
        "    names = re.findall(r\"[Pp]rof.?\\s?[a-zA-Z]+\", f.read())\n",
        "    print(names)"
      ],
      "execution_count": null,
      "outputs": []
    },
    {
      "cell_type": "markdown",
      "metadata": {
        "id": "ZULrs4Wc7_Eu"
      },
      "source": [
        "##### Getting the email addresses."
      ]
    },
    {
      "cell_type": "code",
      "metadata": {
        "id": "r5i09U8q7_Eu"
      },
      "source": [
        " with open (\"contacts.txt\") as f:\n",
        "    emails = re.findall(r\"[a-zA-Z0-9_-]+\\@[a-zA-Z-]+\\.[A-Za-z]{2,6}\", f.read())\n",
        "    for e in emails:\n",
        "     print (e)"
      ],
      "execution_count": null,
      "outputs": []
    },
    {
      "cell_type": "code",
      "metadata": {
        "id": "AfpmPXMw7_Ev"
      },
      "source": [
        ""
      ],
      "execution_count": null,
      "outputs": []
    }
  ]
}